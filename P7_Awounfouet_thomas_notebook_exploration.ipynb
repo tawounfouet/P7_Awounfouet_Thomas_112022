{
 "cells": [
  {
   "cell_type": "markdown",
   "id": "b825b065",
   "metadata": {},
   "source": [
    "<div class=\"jumbotron jumbotron-fluid\">\n",
    "  <div class=\"container\">\n",
    "    <p class=\"h1\" style=\"color:blue; text-align:center\">Implémentez un modèle de<br/>scoring </p>\n",
    "\n",
    "L’entreprise souhaite mettre en œuvre un outil de `scoring crédit` pour calculer la probabilité qu’un client rembourse son crédit, puis classifie le client en `Défaut(D - classe 1)` ou  `Non-Défaut (ND - Classe 0`). Elle souhaite donc développer un algorithme de classification en s’appuyant sur des sources de données variées (données comportementales, données provenant d'autres institutions financières, etc.).\n",
    "\n",
    "L'objectif est donc d'utiliser ces données financières et socio-économiques historiques pour prédire si un client donné sera en mesure de rembourser le prêt accordé. Il s'agit d'une tâche de classification supervisée standard :\n",
    "\n",
    "- **Supervisé** : les étiquettes sont incluses dans les données d'entraînement et l'objectif est d'entraîner un modèle pour apprendre à prédire les étiquettes à partir des caractéristiques\n",
    "- **Classification** : La target est une variable binaire, 0 (credit accordé), 1 (credit refusé)"
   ]
  },
  {
   "cell_type": "markdown",
   "id": "bb539469",
   "metadata": {},
   "source": [
    "\n",
    "<h2 style=\"color:green; text-align:left;\"> 0. Problématique Business </h2>\n",
    "\n",
    "Lorsqu'une instituation financière prête de l'argent à une personne, elle prend le risque que cette dernière `ne rembourse pas cet argent dans le délai convenu`. Ce risque est appelé **Risque de Crédit**. Alors avant d'octroyer du crédit, les instituation financière vérifient si la personne qui demandent un prêt sera capable ou pas de le rembourser (`solvabilité`). \n",
    "\n",
    "Grâce à des modèles de Machine Learning, les intitutions financières peuvent modéliser la **probabilité de défaut - `PD`**  de paiement  et ainsi attribuer un `score` à chaque nouveau demandeur de crédit : **Credit Scoring**. \n",
    "\n",
    "Dans ce projet, nous apprendrons à construire et évaluer un modèle de Machine Learning pour prédire si un demandeur de crédit sera en défaut de paiement ou non. Il s'agit d'un problème de **classification binaire**. \n",
    "\n",
    "\n",
    "En générale le défaut est observé en fonction du taux d'endette, plus celui-ci est élevé, plus le probabilité que le client ne rembpurse pas son credit soit élévé. \n",
    "\n",
    "Mais dans le cas espèce, l'évènement défaut est déclenché lorsque le client est difficulté de paiement c-à-d qu'il a un retard de paiementde plus de X jours sur au moins une des Y premières échéances."
   ]
  },
  {
   "cell_type": "markdown",
   "id": "798f83d5",
   "metadata": {},
   "source": [
    "<h2 style=\"color:green; text-align:left;\"> 1. Mise en Place de l'Environnement de Travail </h2>"
   ]
  },
  {
   "cell_type": "markdown",
   "id": "e36b32f2",
   "metadata": {},
   "source": [
    "#### Import des librairies utiles à l'analyse exploratoire"
   ]
  },
  {
   "cell_type": "code",
   "execution_count": 3,
   "id": "740e366b",
   "metadata": {},
   "outputs": [],
   "source": [
    "# Importation des librairies Python nécessaires\n",
    "import numpy as np\n",
    "import pandas as pd\n",
    "\n",
    "import seaborn as sns\n",
    "import matplotlib.pyplot as plt\n",
    "from IPython.display import display\n",
    "\n",
    "\n",
    "# Utils \n",
    "import os\n",
    "import time\n",
    "import missingno as msno\n",
    "\n",
    "# Librairie de preprocessing\n",
    "from sklearn.pipeline import Pipeline\n",
    "from sklearn.preprocessing import LabelEncoder\n",
    "from sklearn.preprocessing import MinMaxScaler, StandardScaler\n",
    "\n",
    "# Librairie de modélisation\n",
    "from sklearn.linear_model import LogisticRegression\n",
    "from sklearn.tree import DecisionTreeClassifier\n",
    "from sklearn.ensemble import RandomForestClassifier\n",
    "from sklearn.ensemble import GradientBoostingClassifier\n",
    "from sklearn.naive_bayes import GaussianNB\n",
    "from sklearn.neural_network import MLPClassifier\n",
    "from sklearn.svm import SVC"
   ]
  },
  {
   "cell_type": "markdown",
   "id": "4aece347",
   "metadata": {},
   "source": [
    "#### Format d'affichage des données"
   ]
  },
  {
   "cell_type": "code",
   "execution_count": 4,
   "id": "0d233a5c",
   "metadata": {},
   "outputs": [],
   "source": [
    "# Affichage d'un maximum de les lignes et colonnes\n",
    "pd.set_option('display.max_column', 200)\n",
    "pd.set_option('display.max_rows', 500)\n",
    "pd.set_option('display.max_colwidth', 200)\n",
    "\n",
    "pd.options.display.float_format = '{:, .2f}'.format\n",
    "\n",
    "#chiffre après la virgule\n",
    "pd.set_option('display.precision', 3)\n",
    "\n",
    "# Affichage des erreurs\n",
    "import warnings\n",
    "warnings.filterwarnings(\"ignore\")"
   ]
  },
  {
   "cell_type": "code",
   "execution_count": null,
   "id": "cef3e2c2",
   "metadata": {},
   "outputs": [],
   "source": [
    "def read_datasets(num_rows = None):   \n",
    "    with timer(\"Datasets loaded\"):\n",
    "        print(\"Loading data ... \")\n",
    "        app_train = pd.read_csv('data/application_train.csv', nrows= num_rows)\n",
    "        print(\"\\tapplication_train cols_num: {}, obervations: {}\".format(len(app_train.columns), app_train.shape[0]))\n",
    "        app_test = pd.read_csv('data/application_test.csv', nrows= num_rows)\n",
    "        print(\"\\tapplication_test cols_num: {}, obervations: {}\".format(len(app_test.columns), app_test.shape[0]))\n",
    "        prev_app = pd.read_csv('data/previous_application.csv', nrows = num_rows)\n",
    "        print(\"\\tprevious_application cols_num: {}, obervations: {}\".format(len(prev_app.columns), prev_app.shape[0]))\n",
    "        bureau = pd.read_csv('data/bureau.csv', nrows = num_rows)\n",
    "        print(\"\\tbureau cols_num: {}, obervations: {}\".format(len(bureau.columns), bureau.shape[0]))\n",
    "        bur_bal = pd.read_csv('data/bureau_balance.csv', nrows = num_rows)\n",
    "        print(\"\\tbureau_balance cols_num: {}, obervations: {}\".format(len(bur_bal.columns), bur_bal.shape[0]))\n",
    "        pos_cash_bal = pd.read_csv('data/POS_CASH_balance.csv', nrows = num_rows)\n",
    "        print(\"\\tPOS_CASH_balance cols_num: {}, obervations: {}\".format(len(pos_cash_bal.columns), pos_cash_bal.shape[0]))\n",
    "        inst_pay = pd.read_csv('data/installments_payments.csv', nrows = num_rows)\n",
    "        print(\"\\tinstallments_payments cols_num: {}, obervations: {}\".format(len(inst_pay.columns), inst_pay.shape[0]))\n",
    "        cred_card_bal = pd.read_csv('data/credit_card_balance.csv', nrows = num_rows)\n",
    "        print(\"\\tcredit_card_balance cols_num: {}, obervations: {}\".format(len(cred_card_bal.columns), cred_card_bal.shape[0]))\n",
    "    \n",
    "        return app_train, app_test, prev_app, bureau, bur_bal, pos_cash_bal, inst_pay, cred_card_bal"
   ]
  }
 ],
 "metadata": {
  "kernelspec": {
   "display_name": "Python 3 (ipykernel)",
   "language": "python",
   "name": "python3"
  },
  "language_info": {
   "codemirror_mode": {
    "name": "ipython",
    "version": 3
   },
   "file_extension": ".py",
   "mimetype": "text/x-python",
   "name": "python",
   "nbconvert_exporter": "python",
   "pygments_lexer": "ipython3",
   "version": "3.9.7"
  }
 },
 "nbformat": 4,
 "nbformat_minor": 5
}
